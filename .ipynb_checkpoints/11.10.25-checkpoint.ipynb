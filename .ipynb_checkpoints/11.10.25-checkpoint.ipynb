{
 "cells": [
  {
   "metadata": {
    "ExecuteTime": {
     "end_time": "2025-10-11T13:46:50.610821Z",
     "start_time": "2025-10-11T13:46:50.197295Z"
    }
   },
   "cell_type": "code",
   "source": [
    "import numpy as np\n",
    "import pandas as pd"
   ],
   "id": "56db4e35b00949d1",
   "outputs": [],
   "execution_count": 1
  },
  {
   "metadata": {},
   "cell_type": "markdown",
   "source": "Język macierzowy w Pythonie - najważniejsze funkcje",
   "id": "9104a5e30dfcbddc"
  },
  {
   "metadata": {},
   "cell_type": "markdown",
   "source": "### Zadanie 3",
   "id": "57cd35a375a0c761"
  },
  {
   "metadata": {
    "ExecuteTime": {
     "end_time": "2025-10-11T13:51:18.900943Z",
     "start_time": "2025-10-11T13:51:18.898515Z"
    }
   },
   "cell_type": "code",
   "source": "wzrost = np.array([180, 190, 175, 160, 155, 169, 191, 176, 179, 180])",
   "id": "6c6cdbeb4e83c6f8",
   "outputs": [],
   "execution_count": 7
  },
  {
   "metadata": {
    "ExecuteTime": {
     "end_time": "2025-10-11T13:51:26.911404Z",
     "start_time": "2025-10-11T13:51:26.906011Z"
    }
   },
   "cell_type": "code",
   "source": "len(wzrost)",
   "id": "6c3f6fdf58a28dbe",
   "outputs": [
    {
     "data": {
      "text/plain": [
       "10"
      ]
     },
     "execution_count": 8,
     "metadata": {},
     "output_type": "execute_result"
    }
   ],
   "execution_count": 8
  },
  {
   "metadata": {
    "ExecuteTime": {
     "end_time": "2025-10-11T13:51:35.840924Z",
     "start_time": "2025-10-11T13:51:35.835868Z"
    }
   },
   "cell_type": "code",
   "source": "min(wzrost)",
   "id": "b6ae9ad1062721d3",
   "outputs": [
    {
     "data": {
      "text/plain": [
       "np.int64(155)"
      ]
     },
     "execution_count": 9,
     "metadata": {},
     "output_type": "execute_result"
    }
   ],
   "execution_count": 9
  },
  {
   "metadata": {
    "ExecuteTime": {
     "end_time": "2025-10-11T13:52:00.115404Z",
     "start_time": "2025-10-11T13:52:00.107202Z"
    }
   },
   "cell_type": "code",
   "source": "max(wzrost)",
   "id": "89d64709f82109b2",
   "outputs": [
    {
     "data": {
      "text/plain": [
       "np.int64(191)"
      ]
     },
     "execution_count": 10,
     "metadata": {},
     "output_type": "execute_result"
    }
   ],
   "execution_count": 10
  },
  {
   "metadata": {
    "ExecuteTime": {
     "end_time": "2025-10-11T13:52:14.914307Z",
     "start_time": "2025-10-11T13:52:14.907561Z"
    }
   },
   "cell_type": "code",
   "source": "np.mean(wzrost)",
   "id": "6229249c86091724",
   "outputs": [
    {
     "data": {
      "text/plain": [
       "np.float64(175.5)"
      ]
     },
     "execution_count": 11,
     "metadata": {},
     "output_type": "execute_result"
    }
   ],
   "execution_count": 11
  },
  {
   "metadata": {
    "ExecuteTime": {
     "end_time": "2025-10-11T13:52:32.556687Z",
     "start_time": "2025-10-11T13:52:32.549792Z"
    }
   },
   "cell_type": "code",
   "source": "np.std(wzrost)",
   "id": "8d2d5b107178d526",
   "outputs": [
    {
     "data": {
      "text/plain": [
       "np.float64(10.984079387914129)"
      ]
     },
     "execution_count": 12,
     "metadata": {},
     "output_type": "execute_result"
    }
   ],
   "execution_count": 12
  },
  {
   "metadata": {
    "ExecuteTime": {
     "end_time": "2025-10-11T13:52:57.810103Z",
     "start_time": "2025-10-11T13:52:57.803583Z"
    }
   },
   "cell_type": "code",
   "source": "np.quantile(wzrost, [0.25,0.5,0.75])",
   "id": "6602f08b0f85fc03",
   "outputs": [
    {
     "data": {
      "text/plain": [
       "array([170.5, 177.5, 180. ])"
      ]
     },
     "execution_count": 14,
     "metadata": {},
     "output_type": "execute_result"
    }
   ],
   "execution_count": 14
  },
  {
   "metadata": {
    "ExecuteTime": {
     "end_time": "2025-10-11T13:56:19.027392Z",
     "start_time": "2025-10-11T13:56:19.021224Z"
    }
   },
   "cell_type": "code",
   "source": "np.ndim(wzrost)",
   "id": "4de9e619a6b24c04",
   "outputs": [
    {
     "data": {
      "text/plain": [
       "1"
      ]
     },
     "execution_count": 22,
     "metadata": {},
     "output_type": "execute_result"
    }
   ],
   "execution_count": 22
  },
  {
   "metadata": {
    "ExecuteTime": {
     "end_time": "2025-10-11T13:53:05.553092Z",
     "start_time": "2025-10-11T13:53:05.547148Z"
    }
   },
   "cell_type": "code",
   "source": "np.shape(wzrost)",
   "id": "9b8ea81602ce3df",
   "outputs": [
    {
     "data": {
      "text/plain": [
       "(10,)"
      ]
     },
     "execution_count": 15,
     "metadata": {},
     "output_type": "execute_result"
    }
   ],
   "execution_count": 15
  },
  {
   "metadata": {},
   "cell_type": "markdown",
   "source": "### Zadanie 4",
   "id": "98d4bbf4c2a3c795"
  },
  {
   "metadata": {
    "ExecuteTime": {
     "end_time": "2025-10-11T13:55:04.236445Z",
     "start_time": "2025-10-11T13:55:04.231288Z"
    }
   },
   "cell_type": "code",
   "source": [
    "A = np.array([[3,1,-2],[-3,2,1],[-2,6,3]])\n",
    "print(A)"
   ],
   "id": "8b328a708b28d342",
   "outputs": [
    {
     "name": "stdout",
     "output_type": "stream",
     "text": [
      "[[ 3  1 -2]\n",
      " [-3  2  1]\n",
      " [-2  6  3]]\n"
     ]
    }
   ],
   "execution_count": 17
  },
  {
   "metadata": {
    "ExecuteTime": {
     "end_time": "2025-10-11T13:55:22.666545Z",
     "start_time": "2025-10-11T13:55:22.660746Z"
    }
   },
   "cell_type": "code",
   "source": "A.ndim #ilość wymiarów",
   "id": "51400aad2ba08a95",
   "outputs": [
    {
     "data": {
      "text/plain": [
       "2"
      ]
     },
     "execution_count": 18,
     "metadata": {},
     "output_type": "execute_result"
    }
   ],
   "execution_count": 18
  },
  {
   "metadata": {
    "ExecuteTime": {
     "end_time": "2025-10-11T13:55:31.231623Z",
     "start_time": "2025-10-11T13:55:31.226161Z"
    }
   },
   "cell_type": "code",
   "source": "A.shape",
   "id": "73fa2416162f24ef",
   "outputs": [
    {
     "data": {
      "text/plain": [
       "(3, 3)"
      ]
     },
     "execution_count": 19,
     "metadata": {},
     "output_type": "execute_result"
    }
   ],
   "execution_count": 19
  },
  {
   "metadata": {
    "ExecuteTime": {
     "end_time": "2025-10-11T13:55:46.824461Z",
     "start_time": "2025-10-11T13:55:46.818540Z"
    }
   },
   "cell_type": "code",
   "source": [
    "A.min()\n",
    "np.min(A)"
   ],
   "id": "bef7486ed26f3c2c",
   "outputs": [
    {
     "data": {
      "text/plain": [
       "np.int64(-3)"
      ]
     },
     "execution_count": 21,
     "metadata": {},
     "output_type": "execute_result"
    }
   ],
   "execution_count": 21
  },
  {
   "metadata": {
    "ExecuteTime": {
     "end_time": "2025-10-11T14:00:06.850956Z",
     "start_time": "2025-10-11T14:00:06.845468Z"
    }
   },
   "cell_type": "code",
   "source": "np.max(A[2,])",
   "id": "a192c377d4a45914",
   "outputs": [
    {
     "data": {
      "text/plain": [
       "np.int64(6)"
      ]
     },
     "execution_count": 31,
     "metadata": {},
     "output_type": "execute_result"
    }
   ],
   "execution_count": 31
  },
  {
   "metadata": {
    "ExecuteTime": {
     "end_time": "2025-10-11T13:59:58.989038Z",
     "start_time": "2025-10-11T13:59:58.983780Z"
    }
   },
   "cell_type": "code",
   "source": [
    "np.max(A, axis=0) #0 max. w kolumnach\n",
    "np.max(A, axis=1) #1 max. w wierszach"
   ],
   "id": "6e2b473553d9e536",
   "outputs": [
    {
     "data": {
      "text/plain": [
       "array([3, 2, 6])"
      ]
     },
     "execution_count": 30,
     "metadata": {},
     "output_type": "execute_result"
    }
   ],
   "execution_count": 30
  },
  {
   "metadata": {
    "ExecuteTime": {
     "end_time": "2025-10-11T14:01:25.103016Z",
     "start_time": "2025-10-11T14:01:25.094542Z"
    }
   },
   "cell_type": "code",
   "source": [
    "s1 = np.array([1,2,3,4,5,6,7,8,9,10])\n",
    "print(s1)\n",
    "s2 = np.arange(1,11,1)\n",
    "print(s2)"
   ],
   "id": "23d99a8ecbafa0ba",
   "outputs": [
    {
     "name": "stdout",
     "output_type": "stream",
     "text": [
      "[ 1  2  3  4  5  6  7  8  9 10]\n",
      "[ 1  2  3  4  5  6  7  8  9 10]\n"
     ]
    }
   ],
   "execution_count": 32
  },
  {
   "metadata": {
    "ExecuteTime": {
     "end_time": "2025-10-11T14:03:51.247561Z",
     "start_time": "2025-10-11T14:03:51.240607Z"
    }
   },
   "cell_type": "code",
   "source": [
    "np.quantile(wzrost, np.arange(0,1,0.1)) #decyle\n",
    "np.quantile(wzrost, np.arange(0,1,0.01)) #percentyle"
   ],
   "id": "325194a6ffbaf81",
   "outputs": [
    {
     "data": {
      "text/plain": [
       "array([155.  , 155.45, 155.9 , 156.35, 156.8 , 157.25, 157.7 , 158.15,\n",
       "       158.6 , 159.05, 159.5 , 159.95, 160.72, 161.53, 162.34, 163.15,\n",
       "       163.96, 164.77, 165.58, 166.39, 167.2 , 168.01, 168.82, 169.42,\n",
       "       169.96, 170.5 , 171.04, 171.58, 172.12, 172.66, 173.2 , 173.74,\n",
       "       174.28, 174.82, 175.06, 175.15, 175.24, 175.33, 175.42, 175.51,\n",
       "       175.6 , 175.69, 175.78, 175.87, 175.96, 176.15, 176.42, 176.69,\n",
       "       176.96, 177.23, 177.5 , 177.77, 178.04, 178.31, 178.58, 178.85,\n",
       "       179.04, 179.13, 179.22, 179.31, 179.4 , 179.49, 179.58, 179.67,\n",
       "       179.76, 179.85, 179.94, 180.  , 180.  , 180.  , 180.  , 180.  ,\n",
       "       180.  , 180.  , 180.  , 180.  , 180.  , 180.  , 180.2 , 181.1 ,\n",
       "       182.  , 182.9 , 183.8 , 184.7 , 185.6 , 186.5 , 187.4 , 188.3 ,\n",
       "       189.2 , 190.01, 190.1 , 190.19, 190.28, 190.37, 190.46, 190.55,\n",
       "       190.64, 190.73, 190.82, 190.91])"
      ]
     },
     "execution_count": 34,
     "metadata": {},
     "output_type": "execute_result"
    }
   ],
   "execution_count": 34
  }
 ],
 "metadata": {
  "kernelspec": {
   "display_name": "Python 3",
   "language": "python",
   "name": "python3"
  },
  "language_info": {
   "codemirror_mode": {
    "name": "ipython",
    "version": 2
   },
   "file_extension": ".py",
   "mimetype": "text/x-python",
   "name": "python",
   "nbconvert_exporter": "python",
   "pygments_lexer": "ipython2",
   "version": "2.7.6"
  }
 },
 "nbformat": 4,
 "nbformat_minor": 5
}
