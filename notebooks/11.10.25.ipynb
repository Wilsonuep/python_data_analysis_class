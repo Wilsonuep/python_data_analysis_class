{
 "cells": [
  {
   "metadata": {
    "ExecuteTime": {
     "end_time": "2025-10-11T14:35:09.496987Z",
     "start_time": "2025-10-11T14:35:09.211460Z"
    }
   },
   "cell_type": "code",
   "source": [
    "import numpy as np\n",
    "import matplotlib.pyplot as plt"
   ],
   "id": "56db4e35b00949d1",
   "outputs": [],
   "execution_count": 99
  },
  {
   "metadata": {},
   "cell_type": "markdown",
   "source": "Język macierzowy w Pythonie - najważniejsze funkcje",
   "id": "9104a5e30dfcbddc"
  },
  {
   "metadata": {},
   "cell_type": "markdown",
   "source": "### Zadanie 3 - proste operacje na wektorach",
   "id": "57cd35a375a0c761"
  },
  {
   "metadata": {
    "ExecuteTime": {
     "end_time": "2025-10-11T13:51:18.900943Z",
     "start_time": "2025-10-11T13:51:18.898515Z"
    }
   },
   "cell_type": "code",
   "source": "wzrost = np.array([180, 190, 175, 160, 155, 169, 191, 176, 179, 180])",
   "id": "6c6cdbeb4e83c6f8",
   "outputs": [],
   "execution_count": 7
  },
  {
   "metadata": {
    "ExecuteTime": {
     "end_time": "2025-10-11T13:51:26.911404Z",
     "start_time": "2025-10-11T13:51:26.906011Z"
    }
   },
   "cell_type": "code",
   "source": "len(wzrost)",
   "id": "6c3f6fdf58a28dbe",
   "outputs": [
    {
     "data": {
      "text/plain": [
       "10"
      ]
     },
     "execution_count": 8,
     "metadata": {},
     "output_type": "execute_result"
    }
   ],
   "execution_count": 8
  },
  {
   "metadata": {
    "ExecuteTime": {
     "end_time": "2025-10-11T13:51:35.840924Z",
     "start_time": "2025-10-11T13:51:35.835868Z"
    }
   },
   "cell_type": "code",
   "source": "min(wzrost)",
   "id": "b6ae9ad1062721d3",
   "outputs": [
    {
     "data": {
      "text/plain": [
       "np.int64(155)"
      ]
     },
     "execution_count": 9,
     "metadata": {},
     "output_type": "execute_result"
    }
   ],
   "execution_count": 9
  },
  {
   "metadata": {
    "ExecuteTime": {
     "end_time": "2025-10-11T13:52:00.115404Z",
     "start_time": "2025-10-11T13:52:00.107202Z"
    }
   },
   "cell_type": "code",
   "source": "max(wzrost)",
   "id": "89d64709f82109b2",
   "outputs": [
    {
     "data": {
      "text/plain": [
       "np.int64(191)"
      ]
     },
     "execution_count": 10,
     "metadata": {},
     "output_type": "execute_result"
    }
   ],
   "execution_count": 10
  },
  {
   "metadata": {
    "ExecuteTime": {
     "end_time": "2025-10-11T13:52:14.914307Z",
     "start_time": "2025-10-11T13:52:14.907561Z"
    }
   },
   "cell_type": "code",
   "source": "np.mean(wzrost)",
   "id": "6229249c86091724",
   "outputs": [
    {
     "data": {
      "text/plain": [
       "np.float64(175.5)"
      ]
     },
     "execution_count": 11,
     "metadata": {},
     "output_type": "execute_result"
    }
   ],
   "execution_count": 11
  },
  {
   "metadata": {
    "ExecuteTime": {
     "end_time": "2025-10-11T13:52:32.556687Z",
     "start_time": "2025-10-11T13:52:32.549792Z"
    }
   },
   "cell_type": "code",
   "source": "np.std(wzrost)",
   "id": "8d2d5b107178d526",
   "outputs": [
    {
     "data": {
      "text/plain": [
       "np.float64(10.984079387914129)"
      ]
     },
     "execution_count": 12,
     "metadata": {},
     "output_type": "execute_result"
    }
   ],
   "execution_count": 12
  },
  {
   "metadata": {
    "ExecuteTime": {
     "end_time": "2025-10-11T13:52:57.810103Z",
     "start_time": "2025-10-11T13:52:57.803583Z"
    }
   },
   "cell_type": "code",
   "source": "np.quantile(wzrost, [0.25,0.5,0.75])",
   "id": "6602f08b0f85fc03",
   "outputs": [
    {
     "data": {
      "text/plain": [
       "array([170.5, 177.5, 180. ])"
      ]
     },
     "execution_count": 14,
     "metadata": {},
     "output_type": "execute_result"
    }
   ],
   "execution_count": 14
  },
  {
   "metadata": {
    "ExecuteTime": {
     "end_time": "2025-10-11T13:56:19.027392Z",
     "start_time": "2025-10-11T13:56:19.021224Z"
    }
   },
   "cell_type": "code",
   "source": "np.ndim(wzrost)",
   "id": "4de9e619a6b24c04",
   "outputs": [
    {
     "data": {
      "text/plain": [
       "1"
      ]
     },
     "execution_count": 22,
     "metadata": {},
     "output_type": "execute_result"
    }
   ],
   "execution_count": 22
  },
  {
   "metadata": {
    "ExecuteTime": {
     "end_time": "2025-10-11T13:53:05.553092Z",
     "start_time": "2025-10-11T13:53:05.547148Z"
    }
   },
   "cell_type": "code",
   "source": "np.shape(wzrost)",
   "id": "9b8ea81602ce3df",
   "outputs": [
    {
     "data": {
      "text/plain": [
       "(10,)"
      ]
     },
     "execution_count": 15,
     "metadata": {},
     "output_type": "execute_result"
    }
   ],
   "execution_count": 15
  },
  {
   "metadata": {},
   "cell_type": "markdown",
   "source": "### Zadanie 4 - proste operacje na macierzach",
   "id": "98d4bbf4c2a3c795"
  },
  {
   "metadata": {
    "ExecuteTime": {
     "end_time": "2025-10-11T13:55:04.236445Z",
     "start_time": "2025-10-11T13:55:04.231288Z"
    }
   },
   "cell_type": "code",
   "source": [
    "A = np.array([[3,1,-2],[-3,2,1],[-2,6,3]])\n",
    "print(A)"
   ],
   "id": "8b328a708b28d342",
   "outputs": [
    {
     "name": "stdout",
     "output_type": "stream",
     "text": [
      "[[ 3  1 -2]\n",
      " [-3  2  1]\n",
      " [-2  6  3]]\n"
     ]
    }
   ],
   "execution_count": 17
  },
  {
   "metadata": {
    "ExecuteTime": {
     "end_time": "2025-10-11T13:55:22.666545Z",
     "start_time": "2025-10-11T13:55:22.660746Z"
    }
   },
   "cell_type": "code",
   "source": "A.ndim #ilość wymiarów",
   "id": "51400aad2ba08a95",
   "outputs": [
    {
     "data": {
      "text/plain": [
       "2"
      ]
     },
     "execution_count": 18,
     "metadata": {},
     "output_type": "execute_result"
    }
   ],
   "execution_count": 18
  },
  {
   "metadata": {
    "ExecuteTime": {
     "end_time": "2025-10-11T13:55:31.231623Z",
     "start_time": "2025-10-11T13:55:31.226161Z"
    }
   },
   "cell_type": "code",
   "source": "A.shape",
   "id": "73fa2416162f24ef",
   "outputs": [
    {
     "data": {
      "text/plain": [
       "(3, 3)"
      ]
     },
     "execution_count": 19,
     "metadata": {},
     "output_type": "execute_result"
    }
   ],
   "execution_count": 19
  },
  {
   "metadata": {
    "ExecuteTime": {
     "end_time": "2025-10-11T13:55:46.824461Z",
     "start_time": "2025-10-11T13:55:46.818540Z"
    }
   },
   "cell_type": "code",
   "source": [
    "A.min()\n",
    "np.min(A)"
   ],
   "id": "bef7486ed26f3c2c",
   "outputs": [
    {
     "data": {
      "text/plain": [
       "np.int64(-3)"
      ]
     },
     "execution_count": 21,
     "metadata": {},
     "output_type": "execute_result"
    }
   ],
   "execution_count": 21
  },
  {
   "metadata": {
    "ExecuteTime": {
     "end_time": "2025-10-11T14:00:06.850956Z",
     "start_time": "2025-10-11T14:00:06.845468Z"
    }
   },
   "cell_type": "code",
   "source": "np.max(A[2,])",
   "id": "a192c377d4a45914",
   "outputs": [
    {
     "data": {
      "text/plain": [
       "np.int64(6)"
      ]
     },
     "execution_count": 31,
     "metadata": {},
     "output_type": "execute_result"
    }
   ],
   "execution_count": 31
  },
  {
   "metadata": {
    "ExecuteTime": {
     "end_time": "2025-10-11T13:59:58.989038Z",
     "start_time": "2025-10-11T13:59:58.983780Z"
    }
   },
   "cell_type": "code",
   "source": [
    "np.max(A, axis=0) #0 max. w kolumnach\n",
    "np.max(A, axis=1) #1 max. w wierszach"
   ],
   "id": "6e2b473553d9e536",
   "outputs": [
    {
     "data": {
      "text/plain": [
       "array([3, 2, 6])"
      ]
     },
     "execution_count": 30,
     "metadata": {},
     "output_type": "execute_result"
    }
   ],
   "execution_count": 30
  },
  {
   "metadata": {
    "ExecuteTime": {
     "end_time": "2025-10-11T14:01:25.103016Z",
     "start_time": "2025-10-11T14:01:25.094542Z"
    }
   },
   "cell_type": "code",
   "source": [
    "s1 = np.array([1,2,3,4,5,6,7,8,9,10])\n",
    "print(s1)\n",
    "s2 = np.arange(1,11,1)\n",
    "print(s2)"
   ],
   "id": "23d99a8ecbafa0ba",
   "outputs": [
    {
     "name": "stdout",
     "output_type": "stream",
     "text": [
      "[ 1  2  3  4  5  6  7  8  9 10]\n",
      "[ 1  2  3  4  5  6  7  8  9 10]\n"
     ]
    }
   ],
   "execution_count": 32
  },
  {
   "metadata": {
    "ExecuteTime": {
     "end_time": "2025-10-11T14:03:51.247561Z",
     "start_time": "2025-10-11T14:03:51.240607Z"
    }
   },
   "cell_type": "code",
   "source": [
    "np.quantile(wzrost, np.arange(0,1,0.1)) #decyle\n",
    "np.quantile(wzrost, np.arange(0,1,0.01)) #percentyle"
   ],
   "id": "325194a6ffbaf81",
   "outputs": [
    {
     "data": {
      "text/plain": [
       "array([155.  , 155.45, 155.9 , 156.35, 156.8 , 157.25, 157.7 , 158.15,\n",
       "       158.6 , 159.05, 159.5 , 159.95, 160.72, 161.53, 162.34, 163.15,\n",
       "       163.96, 164.77, 165.58, 166.39, 167.2 , 168.01, 168.82, 169.42,\n",
       "       169.96, 170.5 , 171.04, 171.58, 172.12, 172.66, 173.2 , 173.74,\n",
       "       174.28, 174.82, 175.06, 175.15, 175.24, 175.33, 175.42, 175.51,\n",
       "       175.6 , 175.69, 175.78, 175.87, 175.96, 176.15, 176.42, 176.69,\n",
       "       176.96, 177.23, 177.5 , 177.77, 178.04, 178.31, 178.58, 178.85,\n",
       "       179.04, 179.13, 179.22, 179.31, 179.4 , 179.49, 179.58, 179.67,\n",
       "       179.76, 179.85, 179.94, 180.  , 180.  , 180.  , 180.  , 180.  ,\n",
       "       180.  , 180.  , 180.  , 180.  , 180.  , 180.  , 180.2 , 181.1 ,\n",
       "       182.  , 182.9 , 183.8 , 184.7 , 185.6 , 186.5 , 187.4 , 188.3 ,\n",
       "       189.2 , 190.01, 190.1 , 190.19, 190.28, 190.37, 190.46, 190.55,\n",
       "       190.64, 190.73, 190.82, 190.91])"
      ]
     },
     "execution_count": 34,
     "metadata": {},
     "output_type": "execute_result"
    }
   ],
   "execution_count": 34
  },
  {
   "metadata": {},
   "cell_type": "markdown",
   "source": "### Zadanie 13 - macierze jednostkowe",
   "id": "c795c5a23439931a"
  },
  {
   "metadata": {
    "ExecuteTime": {
     "end_time": "2025-10-11T14:09:25.133195Z",
     "start_time": "2025-10-11T14:09:25.129205Z"
    }
   },
   "cell_type": "code",
   "source": [
    "s1 = np.eye(10,dtype=int)\n",
    "print(s1)"
   ],
   "id": "1863cf5eb148cd4a",
   "outputs": [
    {
     "name": "stdout",
     "output_type": "stream",
     "text": [
      "[[1 0 0 0 0 0 0 0 0 0]\n",
      " [0 1 0 0 0 0 0 0 0 0]\n",
      " [0 0 1 0 0 0 0 0 0 0]\n",
      " [0 0 0 1 0 0 0 0 0 0]\n",
      " [0 0 0 0 1 0 0 0 0 0]\n",
      " [0 0 0 0 0 1 0 0 0 0]\n",
      " [0 0 0 0 0 0 1 0 0 0]\n",
      " [0 0 0 0 0 0 0 1 0 0]\n",
      " [0 0 0 0 0 0 0 0 1 0]\n",
      " [0 0 0 0 0 0 0 0 0 1]]\n"
     ]
    }
   ],
   "execution_count": 39
  },
  {
   "metadata": {
    "ExecuteTime": {
     "end_time": "2025-10-11T14:09:58.937586Z",
     "start_time": "2025-10-11T14:09:58.932576Z"
    }
   },
   "cell_type": "code",
   "source": [
    "s2 = np.diag(np.repeat(1, 10))\n",
    "print(s2)"
   ],
   "id": "b267cb8a1ee3dd56",
   "outputs": [
    {
     "name": "stdout",
     "output_type": "stream",
     "text": [
      "[[1 0 0 0 0 0 0 0 0 0]\n",
      " [0 1 0 0 0 0 0 0 0 0]\n",
      " [0 0 1 0 0 0 0 0 0 0]\n",
      " [0 0 0 1 0 0 0 0 0 0]\n",
      " [0 0 0 0 1 0 0 0 0 0]\n",
      " [0 0 0 0 0 1 0 0 0 0]\n",
      " [0 0 0 0 0 0 1 0 0 0]\n",
      " [0 0 0 0 0 0 0 1 0 0]\n",
      " [0 0 0 0 0 0 0 0 1 0]\n",
      " [0 0 0 0 0 0 0 0 0 1]]\n"
     ]
    }
   ],
   "execution_count": 42
  },
  {
   "metadata": {},
   "cell_type": "markdown",
   "source": "### Zadanie 15 - zera",
   "id": "d7b4484b266be51b"
  },
  {
   "metadata": {
    "ExecuteTime": {
     "end_time": "2025-10-11T14:11:40.691557Z",
     "start_time": "2025-10-11T14:11:40.685195Z"
    }
   },
   "cell_type": "code",
   "source": [
    "s1 = np.zeros([5,5], dtype=int)\n",
    "print(s1)"
   ],
   "id": "5a1a8d3667cbb22e",
   "outputs": [
    {
     "name": "stdout",
     "output_type": "stream",
     "text": [
      "[[0 0 0 0 0]\n",
      " [0 0 0 0 0]\n",
      " [0 0 0 0 0]\n",
      " [0 0 0 0 0]\n",
      " [0 0 0 0 0]]\n"
     ]
    }
   ],
   "execution_count": 46
  },
  {
   "metadata": {
    "ExecuteTime": {
     "end_time": "2025-10-11T14:12:16.078104Z",
     "start_time": "2025-10-11T14:12:16.069911Z"
    }
   },
   "cell_type": "code",
   "source": [
    "s2 = np.repeat(0,25).reshape(5,5)\n",
    "print(s2)"
   ],
   "id": "8abd5de5493a394a",
   "outputs": [
    {
     "name": "stdout",
     "output_type": "stream",
     "text": [
      "[[0 0 0 0 0]\n",
      " [0 0 0 0 0]\n",
      " [0 0 0 0 0]\n",
      " [0 0 0 0 0]\n",
      " [0 0 0 0 0]]\n"
     ]
    }
   ],
   "execution_count": 47
  },
  {
   "metadata": {},
   "cell_type": "markdown",
   "source": "### Zadanie 22 - konkatynacje",
   "id": "4e77db8082dba479"
  },
  {
   "metadata": {
    "ExecuteTime": {
     "end_time": "2025-10-11T14:14:26.397620Z",
     "start_time": "2025-10-11T14:14:26.391017Z"
    }
   },
   "cell_type": "code",
   "source": [
    "A = np.arange(1,10,1).reshape(3,3)\n",
    "print(A)"
   ],
   "id": "7207c7af61055e24",
   "outputs": [
    {
     "name": "stdout",
     "output_type": "stream",
     "text": [
      "[[1 2 3]\n",
      " [4 5 6]\n",
      " [7 8 9]]\n"
     ]
    }
   ],
   "execution_count": 48
  },
  {
   "metadata": {
    "ExecuteTime": {
     "end_time": "2025-10-11T14:15:04.434548Z",
     "start_time": "2025-10-11T14:15:04.426892Z"
    }
   },
   "cell_type": "code",
   "source": [
    "B = np.arange(10,19,1).reshape(3,3)\n",
    "print(B)"
   ],
   "id": "4392c1bdf7fc5c86",
   "outputs": [
    {
     "name": "stdout",
     "output_type": "stream",
     "text": [
      "[[10 11 12]\n",
      " [13 14 15]\n",
      " [16 17 18]]\n"
     ]
    }
   ],
   "execution_count": 49
  },
  {
   "metadata": {
    "ExecuteTime": {
     "end_time": "2025-10-11T14:16:26.361126Z",
     "start_time": "2025-10-11T14:16:26.356024Z"
    }
   },
   "cell_type": "code",
   "source": [
    "np.append(A,B,axis=0)\n",
    "np.append(A,B,axis=1)"
   ],
   "id": "b6a9616bbe081a46",
   "outputs": [
    {
     "data": {
      "text/plain": [
       "array([[ 1,  2,  3, 10, 11, 12],\n",
       "       [ 4,  5,  6, 13, 14, 15],\n",
       "       [ 7,  8,  9, 16, 17, 18]])"
      ]
     },
     "execution_count": 57,
     "metadata": {},
     "output_type": "execute_result"
    }
   ],
   "execution_count": 57
  },
  {
   "metadata": {
    "ExecuteTime": {
     "end_time": "2025-10-11T14:17:52.325597Z",
     "start_time": "2025-10-11T14:17:52.320540Z"
    }
   },
   "cell_type": "code",
   "source": "np.hstack((A,B)) # or column_stack",
   "id": "bb17bdba39c33dea",
   "outputs": [
    {
     "data": {
      "text/plain": [
       "array([[ 1,  2,  3, 10, 11, 12],\n",
       "       [ 4,  5,  6, 13, 14, 15],\n",
       "       [ 7,  8,  9, 16, 17, 18]])"
      ]
     },
     "execution_count": 61,
     "metadata": {},
     "output_type": "execute_result"
    }
   ],
   "execution_count": 61
  },
  {
   "metadata": {
    "ExecuteTime": {
     "end_time": "2025-10-11T14:17:46.078518Z",
     "start_time": "2025-10-11T14:17:46.073539Z"
    }
   },
   "cell_type": "code",
   "source": "np.vstack((A,B)) # or row_stack",
   "id": "eb68704c9605bb75",
   "outputs": [
    {
     "data": {
      "text/plain": [
       "array([[ 1,  2,  3],\n",
       "       [ 4,  5,  6],\n",
       "       [ 7,  8,  9],\n",
       "       [10, 11, 12],\n",
       "       [13, 14, 15],\n",
       "       [16, 17, 18]])"
      ]
     },
     "execution_count": 60,
     "metadata": {},
     "output_type": "execute_result"
    }
   ],
   "execution_count": 60
  },
  {
   "metadata": {
    "ExecuteTime": {
     "end_time": "2025-10-11T14:18:52.904295Z",
     "start_time": "2025-10-11T14:18:52.899288Z"
    }
   },
   "cell_type": "code",
   "source": "np.concatenate((A,B), axis=0)",
   "id": "a89a9578507af03f",
   "outputs": [
    {
     "data": {
      "text/plain": [
       "array([[ 1,  2,  3],\n",
       "       [ 4,  5,  6],\n",
       "       [ 7,  8,  9],\n",
       "       [10, 11, 12],\n",
       "       [13, 14, 15],\n",
       "       [16, 17, 18]])"
      ]
     },
     "execution_count": 63,
     "metadata": {},
     "output_type": "execute_result"
    }
   ],
   "execution_count": 63
  },
  {
   "metadata": {
    "ExecuteTime": {
     "end_time": "2025-10-11T14:19:07.072423Z",
     "start_time": "2025-10-11T14:19:07.069722Z"
    }
   },
   "cell_type": "code",
   "source": "np.concatenate((A,B), axis=1)",
   "id": "654d31eb8c47987b",
   "outputs": [
    {
     "data": {
      "text/plain": [
       "array([[ 1,  2,  3, 10, 11, 12],\n",
       "       [ 4,  5,  6, 13, 14, 15],\n",
       "       [ 7,  8,  9, 16, 17, 18]])"
      ]
     },
     "execution_count": 64,
     "metadata": {},
     "output_type": "execute_result"
    }
   ],
   "execution_count": 64
  },
  {
   "metadata": {},
   "cell_type": "markdown",
   "source": "### Zadanie 25 - algebra liniowa",
   "id": "f6953735f285df90"
  },
  {
   "metadata": {
    "ExecuteTime": {
     "end_time": "2025-10-11T14:22:01.206388Z",
     "start_time": "2025-10-11T14:22:01.201777Z"
    }
   },
   "cell_type": "code",
   "source": [
    "A = np.array([[0,1,3],[1,2,3],[1,4,5]])\n",
    "B = np.array([[2,6,2],[3,1,5],[6,7,8]])\n",
    "print(A)\n",
    "print(B)"
   ],
   "id": "6f2e4614319599c0",
   "outputs": [
    {
     "name": "stdout",
     "output_type": "stream",
     "text": [
      "[[0 1 3]\n",
      " [1 2 3]\n",
      " [1 4 5]]\n",
      "[[2 6 2]\n",
      " [3 1 5]\n",
      " [6 7 8]]\n"
     ]
    }
   ],
   "execution_count": 67
  },
  {
   "metadata": {
    "ExecuteTime": {
     "end_time": "2025-10-11T14:22:08.935944Z",
     "start_time": "2025-10-11T14:22:08.930556Z"
    }
   },
   "cell_type": "code",
   "source": "A + B",
   "id": "6623c058d23f81d",
   "outputs": [
    {
     "data": {
      "text/plain": [
       "array([[ 2,  7,  5],\n",
       "       [ 4,  3,  8],\n",
       "       [ 7, 11, 13]])"
      ]
     },
     "execution_count": 68,
     "metadata": {},
     "output_type": "execute_result"
    }
   ],
   "execution_count": 68
  },
  {
   "metadata": {
    "ExecuteTime": {
     "end_time": "2025-10-11T14:22:19.457295Z",
     "start_time": "2025-10-11T14:22:19.454340Z"
    }
   },
   "cell_type": "code",
   "source": "A - B",
   "id": "deca14a00d267779",
   "outputs": [
    {
     "data": {
      "text/plain": [
       "array([[-2, -5,  1],\n",
       "       [-2,  1, -2],\n",
       "       [-5, -3, -3]])"
      ]
     },
     "execution_count": 69,
     "metadata": {},
     "output_type": "execute_result"
    }
   ],
   "execution_count": 69
  },
  {
   "metadata": {
    "ExecuteTime": {
     "end_time": "2025-10-11T14:22:24.729909Z",
     "start_time": "2025-10-11T14:22:24.724813Z"
    }
   },
   "cell_type": "code",
   "source": "A * B #mnożenie po elementach",
   "id": "32e662ea9c03fe0b",
   "outputs": [
    {
     "data": {
      "text/plain": [
       "array([[ 0,  6,  6],\n",
       "       [ 3,  2, 15],\n",
       "       [ 6, 28, 40]])"
      ]
     },
     "execution_count": 70,
     "metadata": {},
     "output_type": "execute_result"
    }
   ],
   "execution_count": 70
  },
  {
   "metadata": {
    "ExecuteTime": {
     "end_time": "2025-10-11T14:26:04.366562Z",
     "start_time": "2025-10-11T14:26:04.363402Z"
    }
   },
   "cell_type": "code",
   "source": [
    "A@B\n",
    "np.matmul(A,B)\n",
    "A.dot(B)"
   ],
   "id": "1f72c5faf21ff189",
   "outputs": [
    {
     "data": {
      "text/plain": [
       "array([[21, 22, 29],\n",
       "       [26, 29, 36],\n",
       "       [44, 45, 62]])"
      ]
     },
     "execution_count": 79,
     "metadata": {},
     "output_type": "execute_result"
    }
   ],
   "execution_count": 79
  },
  {
   "metadata": {
    "ExecuteTime": {
     "end_time": "2025-10-11T14:22:29.106614Z",
     "start_time": "2025-10-11T14:22:29.098052Z"
    }
   },
   "cell_type": "code",
   "source": "A / B #dzielenie po elementach",
   "id": "a23eff12b5ce8118",
   "outputs": [
    {
     "data": {
      "text/plain": [
       "array([[0.        , 0.16666667, 1.5       ],\n",
       "       [0.33333333, 2.        , 0.6       ],\n",
       "       [0.16666667, 0.57142857, 0.625     ]])"
      ]
     },
     "execution_count": 71,
     "metadata": {},
     "output_type": "execute_result"
    }
   ],
   "execution_count": 71
  },
  {
   "metadata": {
    "ExecuteTime": {
     "end_time": "2025-10-11T14:28:51.024248Z",
     "start_time": "2025-10-11T14:28:51.019645Z"
    }
   },
   "cell_type": "code",
   "source": "A ** B #potęgowanie po elementach",
   "id": "8802923c8d50bb87",
   "outputs": [
    {
     "data": {
      "text/plain": [
       "array([[     0,      1,      9],\n",
       "       [     1,      2,    243],\n",
       "       [     1,  16384, 390625]])"
      ]
     },
     "execution_count": 83,
     "metadata": {},
     "output_type": "execute_result"
    }
   ],
   "execution_count": 83
  },
  {
   "metadata": {
    "ExecuteTime": {
     "end_time": "2025-10-11T14:25:35.356090Z",
     "start_time": "2025-10-11T14:25:35.347580Z"
    }
   },
   "cell_type": "code",
   "source": [
    "A.T\n",
    "A.transpose()\n",
    "np.transpose(A)"
   ],
   "id": "a653eab13de69859",
   "outputs": [
    {
     "data": {
      "text/plain": [
       "array([[0, 1, 1],\n",
       "       [1, 2, 4],\n",
       "       [3, 3, 5]])"
      ]
     },
     "execution_count": 77,
     "metadata": {},
     "output_type": "execute_result"
    }
   ],
   "execution_count": 77
  },
  {
   "metadata": {
    "ExecuteTime": {
     "end_time": "2025-10-11T14:27:18.911247Z",
     "start_time": "2025-10-11T14:27:18.892109Z"
    }
   },
   "cell_type": "code",
   "source": "np.linalg.det(A)",
   "id": "2a44a4a25679ecb9",
   "outputs": [
    {
     "data": {
      "text/plain": [
       "np.float64(4.0)"
      ]
     },
     "execution_count": 81,
     "metadata": {},
     "output_type": "execute_result"
    }
   ],
   "execution_count": 81
  },
  {
   "metadata": {
    "ExecuteTime": {
     "end_time": "2025-10-11T14:28:06.387249Z",
     "start_time": "2025-10-11T14:28:06.358067Z"
    }
   },
   "cell_type": "code",
   "source": "np.linalg.inv(A)",
   "id": "2a3b71680e99fcbf",
   "outputs": [
    {
     "data": {
      "text/plain": [
       "array([[-0.5 ,  1.75, -0.75],\n",
       "       [-0.5 , -0.75,  0.75],\n",
       "       [ 0.5 ,  0.25, -0.25]])"
      ]
     },
     "execution_count": 82,
     "metadata": {},
     "output_type": "execute_result"
    }
   ],
   "execution_count": 82
  },
  {
   "metadata": {},
   "cell_type": "markdown",
   "source": "### Zadanie 37 - ekonometria",
   "id": "d0f41c0727451591"
  },
  {
   "metadata": {
    "ExecuteTime": {
     "end_time": "2025-10-11T14:33:38.482812Z",
     "start_time": "2025-10-11T14:33:38.474441Z"
    }
   },
   "cell_type": "code",
   "source": [
    "x = np.array([1,2,3,4,5,6,7,8,9,10]) #staż w latach\n",
    "y = np.array([10,15,13,22,23,20,18,25,27,22]) #wydajność pracy w sztukach na godzinę"
   ],
   "id": "22996a630e90bb5c",
   "outputs": [],
   "execution_count": 85
  },
  {
   "metadata": {
    "ExecuteTime": {
     "end_time": "2025-10-11T14:35:59.348111Z",
     "start_time": "2025-10-11T14:35:59.296205Z"
    }
   },
   "cell_type": "code",
   "source": [
    "plt.scatter(x, y)\n",
    "plt.title(\"Zależność między stażem a wydajnością\")\n",
    "plt.xlabel(\"Staż\")\n",
    "plt.ylabel(\"Wydajność\")\n",
    "plt.show()"
   ],
   "id": "a4a78f7bf0c0f0c4",
   "outputs": [
    {
     "data": {
      "text/plain": [
       "<Figure size 640x480 with 1 Axes>"
      ],
      "image/png": "[encoded data removed]"
     },
     "metadata": {},
     "output_type": "display_data"
    }
   ],
   "execution_count": 101
  },
  {
   "metadata": {
    "ExecuteTime": {
     "end_time": "2025-10-11T14:44:04.071906Z",
     "start_time": "2025-10-11T14:44:04.068124Z"
    }
   },
   "cell_type": "code",
   "source": [
    "one = np.repeat(1,10)\n",
    "X = np.column_stack((x,one))\n",
    "print(X)"
   ],
   "id": "b20df58f574957c6",
   "outputs": [
    {
     "name": "stdout",
     "output_type": "stream",
     "text": [
      "[[ 1  1]\n",
      " [ 2  1]\n",
      " [ 3  1]\n",
      " [ 4  1]\n",
      " [ 5  1]\n",
      " [ 6  1]\n",
      " [ 7  1]\n",
      " [ 8  1]\n",
      " [ 9  1]\n",
      " [10  1]]\n"
     ]
    }
   ],
   "execution_count": 121
  },
  {
   "metadata": {
    "ExecuteTime": {
     "end_time": "2025-10-11T14:44:09.988644Z",
     "start_time": "2025-10-11T14:44:09.982333Z"
    }
   },
   "cell_type": "code",
   "source": [
    "y_pred = np.linalg.inv(X.T.dot(X)).dot(X.T.dot(y))\n",
    "print(y_pred)"
   ],
   "id": "2133f5c30ef72710",
   "outputs": [
    {
     "name": "stdout",
     "output_type": "stream",
     "text": [
      "[ 1.43636364 11.6       ]\n"
     ]
    }
   ],
   "execution_count": 122
  }
 ],
 "metadata": {
  "kernelspec": {
   "display_name": "Python 3",
   "language": "python",
   "name": "python3"
  },
  "language_info": {
   "codemirror_mode": {
    "name": "ipython",
    "version": 2
   },
   "file_extension": ".py",
   "mimetype": "text/x-python",
   "name": "python",
   "nbconvert_exporter": "python",
   "pygments_lexer": "ipython2",
   "version": "2.7.6"
  }
 },
 "nbformat": 4,
 "nbformat_minor": 5
}
